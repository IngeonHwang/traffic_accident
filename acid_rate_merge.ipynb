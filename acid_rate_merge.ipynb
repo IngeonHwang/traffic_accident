{
 "cells": [
  {
   "cell_type": "code",
   "execution_count": 1,
   "metadata": {},
   "outputs": [],
   "source": [
    "import pandas as pd\n",
    "import os\n",
    "import datetime\n",
    "import locale\n",
    "import re\n",
    "import numpy\n",
    "# import keras\n",
    "#import tensorflow as tf\n",
    "#import sklearn.preprocessing as pp\n",
    "import matplotlib.pyplot as plt \n",
    "\n",
    "#from sklearn.linear_model import LinearRegression\n",
    "# from sklearn.model_selection import train_test_split\n",
    "# from sklearn.metrics import mean_squared_error\n",
    "# from sklearn.metrics import mean_absolute_error\n",
    "# from keras.models import Sequential\n",
    "# from keras.layers import Dense\n",
    "# from keras.callbacks import ModelCheckpoint, EarlyStopping"
   ]
  },
  {
   "cell_type": "code",
   "execution_count": 2,
   "metadata": {
    "scrolled": true
   },
   "outputs": [],
   "source": [
    "# 교통량 데이터 로드\n",
    "traffic = pd.read_csv('traffic_adj.csv')"
   ]
  },
  {
   "cell_type": "code",
   "execution_count": 3,
   "metadata": {},
   "outputs": [],
   "source": [
    "# 추정유동인구 데이터 로드 \n",
    "# `17~`19년 3개 파일\n",
    "flt17 = pd.read_csv('FLT_2017.csv')\n",
    "flt18 = pd.read_csv('FLT_2018.csv')\n",
    "flt19 = pd.read_csv('FLT_2019.csv')"
   ]
  },
  {
   "cell_type": "code",
   "execution_count": 4,
   "metadata": {},
   "outputs": [],
   "source": [
    "# 날씨 데이터 로드\n",
    "# `17~`19년 3개 파일\n",
    "nalc17 = pd.read_csv('weather2017.csv', encoding = 'euc-kr')\n",
    "nalc18 = pd.read_csv('weather2018.csv', encoding = 'euc-kr')\n",
    "nalc19 = pd.read_csv('weather2019.csv', encoding = 'euc-kr')\n",
    "\n",
    "# 1개 변수로 병합\n",
    "weather = pd.concat([nalc17, nalc18, nalc19], axis=0).reset_index()"
   ]
  },
  {
   "cell_type": "code",
   "execution_count": 5,
   "metadata": {},
   "outputs": [
    {
     "name": "stderr",
     "output_type": "stream",
     "text": [
      "<ipython-input-5-c0eb0f6e10fa>:8: SettingWithCopyWarning: \n",
      "A value is trying to be set on a copy of a slice from a DataFrame.\n",
      "Try using .loc[row_indexer,col_indexer] = value instead\n",
      "\n",
      "See the caveats in the documentation: https://pandas.pydata.org/pandas-docs/stable/user_guide/indexing.html#returning-a-view-versus-a-copy\n",
      "  weather2['날짜'] = weather['일시'].apply(lambda x: str(x)[:10].replace('-',''))\n",
      "<ipython-input-5-c0eb0f6e10fa>:9: SettingWithCopyWarning: \n",
      "A value is trying to be set on a copy of a slice from a DataFrame.\n",
      "Try using .loc[row_indexer,col_indexer] = value instead\n",
      "\n",
      "See the caveats in the documentation: https://pandas.pydata.org/pandas-docs/stable/user_guide/indexing.html#returning-a-view-versus-a-copy\n",
      "  weather2['시간'] = weather['일시'].apply(lambda x: str(x)[-5:-3].replace(' ',''))\n"
     ]
    }
   ],
   "source": [
    "# 날씨 데이터에서 필요한 컬럼만 추출\n",
    "weather2 = weather[['일시','시정(10m)', '현상번호(국내식)']]\n",
    "\n",
    "# 조회 편의를 위한 컬럼명 수정\n",
    "weather2.columns = ['일시','시정','날씨']\n",
    "\n",
    "# 일시 컬럼을 이용해 merge를 위한 key 컬럼인 날짜와 시간을 만듬\n",
    "weather2['날짜'] = weather['일시'].apply(lambda x: str(x)[:10].replace('-',''))\n",
    "weather2['시간'] = weather['일시'].apply(lambda x: str(x)[-5:-3].replace(' ',''))\n",
    "\n",
    "# 이후 일시 컬럼 제거\n",
    "weather2 = weather2.drop('일시', axis=1)"
   ]
  },
  {
   "cell_type": "code",
   "execution_count": 6,
   "metadata": {},
   "outputs": [],
   "source": [
    "# 날씨 데이터에서 null 값은 맑은 날의 경우임. 맑음을 0으로 설정함 \n",
    "weather2['날씨'] = weather2['날씨'].fillna(0)\n",
    "\n",
    "# nalcode 및 날씨 컬럼은 소수점을 없애고 코드로 활용하기 위해 float => int => str로 타입 변환\n",
    "# 두 변수는 같으나, 헷갈려서 두 개로 선언했음\n",
    "nalcode = weather2['날씨'].apply(lambda x: str(int(x)))\n",
    "weather2['날씨'] = weather2['날씨'].apply(lambda x: str(int(x)))\n",
    "\n",
    "# 날씨 코드는 2자리씩 묶어서 봐야함\n",
    "# 각 값의 자리수가 2의 배수면 pass\n",
    "# 그렇지 않으면 맨 앞에 0을 추가하여 2자리 단위 코드를 만듬.\n",
    "weather2.loc[nalcode[nalcode.apply(len) % 2 == 1].index, '날씨'] = weather2.loc[nalcode[nalcode.apply(len) % 2 == 1].index, '날씨'].apply(lambda x: '0'+x)"
   ]
  },
  {
   "cell_type": "code",
   "execution_count": 7,
   "metadata": {},
   "outputs": [
    {
     "name": "stderr",
     "output_type": "stream",
     "text": [
      "<ipython-input-7-5ed85bbb2967>:4: DeprecationWarning: The default dtype for empty Series will be 'object' instead of 'float64' in a future version. Specify a dtype explicitly to silence this warning.\n",
      "  time_nalc = pd.Series()            # 변수 초기화\n"
     ]
    }
   ],
   "source": [
    "# 날씨 데이터를 2자리씩 묶어 리스트로 반환하는 for 문임\n",
    "# 이후 코드 테이블과 join하여 한글로 나타내기 위함\n",
    "\n",
    "time_nalc = pd.Series()            # 변수 초기화\n",
    "for items in weather2.날씨:       # 날씨 데이터의 각 행을 items로 반환\n",
    "    item = []                      # for문 내 결과값을 반환할 리스트 초기화  \n",
    "    for idx in range(0,201,2):    # 최대 자리수를 구하기보다 그냥 종료값을 크게 두고 처리했음. idx는 0부터 200까지 2씩 증가함\n",
    "        if idx+2 <=len(items):    # idx+2 까지가 날씨코드의 길이보다 짧은 경우만 코드 추출\n",
    "            item.append(items[idx:idx+2])\n",
    "    time_nalc = time_nalc.append(pd.Series([item]), ignore_index = True)"
   ]
  },
  {
   "cell_type": "code",
   "execution_count": 8,
   "metadata": {},
   "outputs": [],
   "source": [
    "# 우리나라 날씨 현상 코드를 추출하여 텍스트로 작성\n",
    "# 출처는 기상청 보고서임.\n",
    "text = '''\n",
    "01) 비 02) 이슬비 03) 착빙성의 비\n",
    "04) 소낙비 05) 눈 06) 진눈깨비\n",
    "07) 착빙성의 이슬비08) 소낙눈 09) 소낙성 진눈깨비\n",
    "10) 싸락눈 11) 가루눈 12) 어는비\n",
    "13) 싸락우박 14) 우 박 15) 얼 음 침\n",
    "16) 안개 17) 땅 안 개 18) 얼음안개\n",
    "19) 박 무 20) 땅 날린눈 21) 높은 날린눈\n",
    "22) 눈 보 라 23) 이 슬 24) 언 이슬\n",
    "25) 서 리 26) 서 릿 발 27) 무 빙\n",
    "28) 수 상 29) 수 빙 30) 조 빙\n",
    "31) 우 빙 32) 결 빙 33) 용 오 름\n",
    "34) 해 빙 35) 유 빙 36) 해 명\n",
    "40) 연 무 41) 먼지연무 42) 황 사\n",
    "43) 연 기 44) 강 회 45) 땅날린 먼지\n",
    "46) 높은날린먼지 47) 먼지보라 48) 회오리 바람\n",
    "50) 햇 무 리 51) 달 무 리 52) 해 코로나\n",
    "53) 달 코로나 54) 채 운 55) 무 지 개\n",
    "56) 어 광 57) 비 숍 환 58) 신 기 루\n",
    "59) 아지랑이 60) 놀\n",
    "70) 뇌 전 71) 천 둥 72) 번 개\n",
    "73) 세인트엘모의 불74) 극 광 75) 지 진\n",
    "80) 신 적 설 81) 적 설 82) 일조없음\n",
    "83) 일조 < 20% 84) 일조 ≥ 80% 85) 폭 풍\n",
    "86) 부분강수\n",
    "90) 맑음 91) 구름조금 92) 흐림\n",
    "'''"
   ]
  },
  {
   "cell_type": "code",
   "execution_count": 9,
   "metadata": {},
   "outputs": [],
   "source": [
    "# 위 텍스트에서 각 번호와 내용을 담는 리스트를 반환하기 위한 과정\n",
    "\n",
    "text.split(\"\\n\")                   # 줄 별로 텍스트를 나눈 후\n",
    "p = re.compile('\\d\\d\\) [^\\d]+')    # '숫자 숫자 ) 띄어쓰기 숫자아님' 패턴을 잡았음\n",
    "text_list = p.findall(text)        # 해당 패턴을 문서에서 찾아 리스트로 반환\n",
    "\n",
    "word_list = []                     # 위 리스트를 [번호, 내용]으로 분할하여 담을 리스트 초기화\n",
    "for word in text_list:\n",
    "    word_list.append(word.replace(\" \",\"\").replace(\")\",\" \").strip().split(\" \"))   # 괄호를 제거하여 '번호 내용' 형태로 가공 후 split함"
   ]
  },
  {
   "cell_type": "code",
   "execution_count": 10,
   "metadata": {},
   "outputs": [
    {
     "data": {
      "text/plain": [
       "{'01': '비',\n",
       " '02': '이슬비',\n",
       " '03': '착빙성의비',\n",
       " '04': '소낙비',\n",
       " '05': '눈',\n",
       " '06': '진눈깨비',\n",
       " '07': '착빙성의이슬비',\n",
       " '08': '소낙눈',\n",
       " '09': '소낙성진눈깨비',\n",
       " '10': '싸락눈',\n",
       " '11': '가루눈',\n",
       " '12': '어는비',\n",
       " '13': '싸락우박',\n",
       " '14': '우박',\n",
       " '15': '얼음침',\n",
       " '16': '안개',\n",
       " '17': '땅안개',\n",
       " '18': '얼음안개',\n",
       " '19': '박무',\n",
       " '20': '땅날린눈',\n",
       " '21': '높은날린눈',\n",
       " '22': '눈보라',\n",
       " '23': '이슬',\n",
       " '24': '언이슬',\n",
       " '25': '서리',\n",
       " '26': '서릿발',\n",
       " '27': '무빙',\n",
       " '28': '수상',\n",
       " '29': '수빙',\n",
       " '30': '조빙',\n",
       " '31': '우빙',\n",
       " '32': '결빙',\n",
       " '33': '용오름',\n",
       " '34': '해빙',\n",
       " '35': '유빙',\n",
       " '36': '해명',\n",
       " '40': '연무',\n",
       " '41': '먼지연무',\n",
       " '42': '황사',\n",
       " '43': '연기',\n",
       " '44': '강회',\n",
       " '45': '땅날린먼지',\n",
       " '46': '높은날린먼지',\n",
       " '47': '먼지보라',\n",
       " '48': '회오리바람',\n",
       " '50': '햇무리',\n",
       " '51': '달무리',\n",
       " '52': '해코로나',\n",
       " '53': '달코로나',\n",
       " '54': '채운',\n",
       " '55': '무지개',\n",
       " '56': '어광',\n",
       " '57': '비숍환',\n",
       " '58': '신기루',\n",
       " '59': '아지랑이',\n",
       " '60': '놀',\n",
       " '70': '뇌전',\n",
       " '71': '천둥',\n",
       " '72': '번개',\n",
       " '73': '세인트엘모의불',\n",
       " '74': '극광',\n",
       " '75': '지진',\n",
       " '80': '신적설',\n",
       " '81': '적설',\n",
       " '82': '일조없음',\n",
       " '83': '일조<20%',\n",
       " '84': '일조≥80%',\n",
       " '85': '폭풍',\n",
       " '86': '부분강수',\n",
       " '90': '맑음',\n",
       " '91': '구름조금',\n",
       " '92': '흐림',\n",
       " '00': '맑음'}"
      ]
     },
     "execution_count": 10,
     "metadata": {},
     "output_type": "execute_result"
    }
   ],
   "source": [
    "word_dict = {}                      # 위 [번호, 내용] 리스트를 dict[번호] = 내용 으로 변환할 변수 초기화\n",
    "for word in word_list:\n",
    "    word_dict[word[0]] = word[1]    # key = 번호, item = 내용인 dict \n",
    "word_dict['83'] = '일조<20%'        # 패턴으로 잡히지않는 내용은 직접 수정\n",
    "word_dict['84'] = '일조≥80%'\n",
    "word_dict['00'] = '맑음'\n",
    "word_dict                           # 결과 확인"
   ]
  },
  {
   "cell_type": "code",
   "execution_count": 11,
   "metadata": {},
   "outputs": [],
   "source": [
    "# 다음 함수는 날씨를 ['날씨', '날씨'] 리스트로 선언한 날씨를 추출하여\n",
    "# 텍스트 형태 '날씨', '날씨' 로 바꾸기 위한 함수\n",
    "\n",
    "def matching(x):\n",
    "    answer = []\n",
    "    for i in x:\n",
    "        answer.append(word_dict[str(i)])\n",
    "    answer = ','.join(answer)\n",
    "    return answer\n",
    "\n",
    "time_nalc = time_nalc.apply(lambda x: matching(x))"
   ]
  },
  {
   "cell_type": "code",
   "execution_count": 12,
   "metadata": {},
   "outputs": [
    {
     "data": {
      "text/plain": [
       "14"
      ]
     },
     "execution_count": 12,
     "metadata": {},
     "output_type": "execute_result"
    }
   ],
   "source": [
    "# 날씨 코드의 도메인을 만들기 위해 고유값을 추출하는 과정\n",
    "# ,를 기준으로 텍스트로 만든 후 ,를 기준으로 나눠 list로 반환\n",
    "# 이를 set 형태로 바꾸어 겹치는 값을 제거함\n",
    "hap = ','.join(list(time_nalc.values))\n",
    "hap = hap.split(',')\n",
    "len(set(hap))"
   ]
  },
  {
   "cell_type": "code",
   "execution_count": 13,
   "metadata": {},
   "outputs": [
    {
     "data": {
      "text/html": [
       "<div>\n",
       "<style scoped>\n",
       "    .dataframe tbody tr th:only-of-type {\n",
       "        vertical-align: middle;\n",
       "    }\n",
       "\n",
       "    .dataframe tbody tr th {\n",
       "        vertical-align: top;\n",
       "    }\n",
       "\n",
       "    .dataframe thead th {\n",
       "        text-align: right;\n",
       "    }\n",
       "</style>\n",
       "<table border=\"1\" class=\"dataframe\">\n",
       "  <thead>\n",
       "    <tr style=\"text-align: right;\">\n",
       "      <th></th>\n",
       "      <th>소낙눈</th>\n",
       "      <th>박무</th>\n",
       "      <th>이슬비</th>\n",
       "      <th>맑음</th>\n",
       "      <th>황사</th>\n",
       "      <th>소낙비</th>\n",
       "      <th>안개</th>\n",
       "      <th>싸락우박</th>\n",
       "      <th>연무</th>\n",
       "      <th>비</th>\n",
       "      <th>싸락눈</th>\n",
       "      <th>눈</th>\n",
       "      <th>우박</th>\n",
       "      <th>진눈깨비</th>\n",
       "    </tr>\n",
       "  </thead>\n",
       "  <tbody>\n",
       "    <tr>\n",
       "      <th>0</th>\n",
       "      <td>0.0</td>\n",
       "      <td>0.0</td>\n",
       "      <td>0.0</td>\n",
       "      <td>0.0</td>\n",
       "      <td>0.0</td>\n",
       "      <td>0.0</td>\n",
       "      <td>0.0</td>\n",
       "      <td>0.0</td>\n",
       "      <td>0.0</td>\n",
       "      <td>0.0</td>\n",
       "      <td>0.0</td>\n",
       "      <td>0.0</td>\n",
       "      <td>0.0</td>\n",
       "      <td>0.0</td>\n",
       "    </tr>\n",
       "  </tbody>\n",
       "</table>\n",
       "</div>"
      ],
      "text/plain": [
       "   소낙눈   박무  이슬비   맑음   황사  소낙비   안개  싸락우박   연무    비  싸락눈    눈   우박  진눈깨비\n",
       "0  0.0  0.0  0.0  0.0  0.0  0.0  0.0   0.0  0.0  0.0  0.0  0.0  0.0   0.0"
      ]
     },
     "execution_count": 13,
     "metadata": {},
     "output_type": "execute_result"
    }
   ],
   "source": [
    "# 위 데이터를 활용하여 날씨별 컬럼을 만들고 0으로 초기화 함.\n",
    "# 테이블 크기는 날씨 데이터의 행 x 유니크한 날씨의 개수\n",
    "nalc_col = pd.DataFrame(numpy.zeros((weather2.shape[0],len(set(hap)))), columns = set(hap))\n",
    "nalc_col.head(1)"
   ]
  },
  {
   "cell_type": "code",
   "execution_count": 14,
   "metadata": {},
   "outputs": [],
   "source": [
    "# 위에서 초기화한 날씨 테이블에 각 컬럼에 해당하는 값이 있는 경우 1로 바꿈\n",
    "# 이를 통해 카테고리 변수로 변환함.\n",
    "for idx, weather in enumerate(time_nalc):\n",
    "    items= weather.split(',')\n",
    "    for item in items:\n",
    "        nalc_col[item].iloc[idx,] = 1"
   ]
  },
  {
   "cell_type": "code",
   "execution_count": 15,
   "metadata": {},
   "outputs": [
    {
     "data": {
      "text/html": [
       "<div>\n",
       "<style scoped>\n",
       "    .dataframe tbody tr th:only-of-type {\n",
       "        vertical-align: middle;\n",
       "    }\n",
       "\n",
       "    .dataframe tbody tr th {\n",
       "        vertical-align: top;\n",
       "    }\n",
       "\n",
       "    .dataframe thead th {\n",
       "        text-align: right;\n",
       "    }\n",
       "</style>\n",
       "<table border=\"1\" class=\"dataframe\">\n",
       "  <thead>\n",
       "    <tr style=\"text-align: right;\">\n",
       "      <th></th>\n",
       "      <th>소낙눈</th>\n",
       "      <th>박무</th>\n",
       "      <th>이슬비</th>\n",
       "      <th>맑음</th>\n",
       "      <th>황사</th>\n",
       "      <th>소낙비</th>\n",
       "      <th>안개</th>\n",
       "      <th>싸락우박</th>\n",
       "      <th>연무</th>\n",
       "      <th>비</th>\n",
       "      <th>싸락눈</th>\n",
       "      <th>눈</th>\n",
       "      <th>우박</th>\n",
       "      <th>진눈깨비</th>\n",
       "    </tr>\n",
       "  </thead>\n",
       "  <tbody>\n",
       "    <tr>\n",
       "      <th>0</th>\n",
       "      <td>0.0</td>\n",
       "      <td>0.0</td>\n",
       "      <td>0.0</td>\n",
       "      <td>0.0</td>\n",
       "      <td>0.0</td>\n",
       "      <td>0.0</td>\n",
       "      <td>0.0</td>\n",
       "      <td>0.0</td>\n",
       "      <td>1.0</td>\n",
       "      <td>0.0</td>\n",
       "      <td>0.0</td>\n",
       "      <td>0.0</td>\n",
       "      <td>0.0</td>\n",
       "      <td>0.0</td>\n",
       "    </tr>\n",
       "    <tr>\n",
       "      <th>1</th>\n",
       "      <td>0.0</td>\n",
       "      <td>0.0</td>\n",
       "      <td>0.0</td>\n",
       "      <td>0.0</td>\n",
       "      <td>0.0</td>\n",
       "      <td>0.0</td>\n",
       "      <td>0.0</td>\n",
       "      <td>0.0</td>\n",
       "      <td>1.0</td>\n",
       "      <td>0.0</td>\n",
       "      <td>0.0</td>\n",
       "      <td>0.0</td>\n",
       "      <td>0.0</td>\n",
       "      <td>0.0</td>\n",
       "    </tr>\n",
       "    <tr>\n",
       "      <th>2</th>\n",
       "      <td>0.0</td>\n",
       "      <td>1.0</td>\n",
       "      <td>0.0</td>\n",
       "      <td>0.0</td>\n",
       "      <td>0.0</td>\n",
       "      <td>0.0</td>\n",
       "      <td>0.0</td>\n",
       "      <td>0.0</td>\n",
       "      <td>1.0</td>\n",
       "      <td>0.0</td>\n",
       "      <td>0.0</td>\n",
       "      <td>0.0</td>\n",
       "      <td>0.0</td>\n",
       "      <td>0.0</td>\n",
       "    </tr>\n",
       "    <tr>\n",
       "      <th>3</th>\n",
       "      <td>0.0</td>\n",
       "      <td>1.0</td>\n",
       "      <td>0.0</td>\n",
       "      <td>0.0</td>\n",
       "      <td>0.0</td>\n",
       "      <td>0.0</td>\n",
       "      <td>0.0</td>\n",
       "      <td>0.0</td>\n",
       "      <td>0.0</td>\n",
       "      <td>0.0</td>\n",
       "      <td>0.0</td>\n",
       "      <td>0.0</td>\n",
       "      <td>0.0</td>\n",
       "      <td>0.0</td>\n",
       "    </tr>\n",
       "    <tr>\n",
       "      <th>4</th>\n",
       "      <td>0.0</td>\n",
       "      <td>1.0</td>\n",
       "      <td>0.0</td>\n",
       "      <td>0.0</td>\n",
       "      <td>0.0</td>\n",
       "      <td>0.0</td>\n",
       "      <td>0.0</td>\n",
       "      <td>0.0</td>\n",
       "      <td>0.0</td>\n",
       "      <td>0.0</td>\n",
       "      <td>0.0</td>\n",
       "      <td>0.0</td>\n",
       "      <td>0.0</td>\n",
       "      <td>0.0</td>\n",
       "    </tr>\n",
       "    <tr>\n",
       "      <th>...</th>\n",
       "      <td>...</td>\n",
       "      <td>...</td>\n",
       "      <td>...</td>\n",
       "      <td>...</td>\n",
       "      <td>...</td>\n",
       "      <td>...</td>\n",
       "      <td>...</td>\n",
       "      <td>...</td>\n",
       "      <td>...</td>\n",
       "      <td>...</td>\n",
       "      <td>...</td>\n",
       "      <td>...</td>\n",
       "      <td>...</td>\n",
       "      <td>...</td>\n",
       "    </tr>\n",
       "    <tr>\n",
       "      <th>26275</th>\n",
       "      <td>0.0</td>\n",
       "      <td>0.0</td>\n",
       "      <td>0.0</td>\n",
       "      <td>1.0</td>\n",
       "      <td>0.0</td>\n",
       "      <td>0.0</td>\n",
       "      <td>0.0</td>\n",
       "      <td>0.0</td>\n",
       "      <td>0.0</td>\n",
       "      <td>0.0</td>\n",
       "      <td>0.0</td>\n",
       "      <td>0.0</td>\n",
       "      <td>0.0</td>\n",
       "      <td>0.0</td>\n",
       "    </tr>\n",
       "    <tr>\n",
       "      <th>26276</th>\n",
       "      <td>0.0</td>\n",
       "      <td>0.0</td>\n",
       "      <td>0.0</td>\n",
       "      <td>1.0</td>\n",
       "      <td>0.0</td>\n",
       "      <td>0.0</td>\n",
       "      <td>0.0</td>\n",
       "      <td>0.0</td>\n",
       "      <td>0.0</td>\n",
       "      <td>0.0</td>\n",
       "      <td>0.0</td>\n",
       "      <td>0.0</td>\n",
       "      <td>0.0</td>\n",
       "      <td>0.0</td>\n",
       "    </tr>\n",
       "    <tr>\n",
       "      <th>26277</th>\n",
       "      <td>0.0</td>\n",
       "      <td>0.0</td>\n",
       "      <td>0.0</td>\n",
       "      <td>1.0</td>\n",
       "      <td>0.0</td>\n",
       "      <td>0.0</td>\n",
       "      <td>0.0</td>\n",
       "      <td>0.0</td>\n",
       "      <td>0.0</td>\n",
       "      <td>0.0</td>\n",
       "      <td>0.0</td>\n",
       "      <td>0.0</td>\n",
       "      <td>0.0</td>\n",
       "      <td>0.0</td>\n",
       "    </tr>\n",
       "    <tr>\n",
       "      <th>26278</th>\n",
       "      <td>0.0</td>\n",
       "      <td>0.0</td>\n",
       "      <td>0.0</td>\n",
       "      <td>1.0</td>\n",
       "      <td>0.0</td>\n",
       "      <td>0.0</td>\n",
       "      <td>0.0</td>\n",
       "      <td>0.0</td>\n",
       "      <td>0.0</td>\n",
       "      <td>0.0</td>\n",
       "      <td>0.0</td>\n",
       "      <td>0.0</td>\n",
       "      <td>0.0</td>\n",
       "      <td>0.0</td>\n",
       "    </tr>\n",
       "    <tr>\n",
       "      <th>26279</th>\n",
       "      <td>0.0</td>\n",
       "      <td>0.0</td>\n",
       "      <td>0.0</td>\n",
       "      <td>1.0</td>\n",
       "      <td>0.0</td>\n",
       "      <td>0.0</td>\n",
       "      <td>0.0</td>\n",
       "      <td>0.0</td>\n",
       "      <td>0.0</td>\n",
       "      <td>0.0</td>\n",
       "      <td>0.0</td>\n",
       "      <td>0.0</td>\n",
       "      <td>0.0</td>\n",
       "      <td>0.0</td>\n",
       "    </tr>\n",
       "  </tbody>\n",
       "</table>\n",
       "<p>26280 rows × 14 columns</p>\n",
       "</div>"
      ],
      "text/plain": [
       "       소낙눈   박무  이슬비   맑음   황사  소낙비   안개  싸락우박   연무    비  싸락눈    눈   우박  진눈깨비\n",
       "0      0.0  0.0  0.0  0.0  0.0  0.0  0.0   0.0  1.0  0.0  0.0  0.0  0.0   0.0\n",
       "1      0.0  0.0  0.0  0.0  0.0  0.0  0.0   0.0  1.0  0.0  0.0  0.0  0.0   0.0\n",
       "2      0.0  1.0  0.0  0.0  0.0  0.0  0.0   0.0  1.0  0.0  0.0  0.0  0.0   0.0\n",
       "3      0.0  1.0  0.0  0.0  0.0  0.0  0.0   0.0  0.0  0.0  0.0  0.0  0.0   0.0\n",
       "4      0.0  1.0  0.0  0.0  0.0  0.0  0.0   0.0  0.0  0.0  0.0  0.0  0.0   0.0\n",
       "...    ...  ...  ...  ...  ...  ...  ...   ...  ...  ...  ...  ...  ...   ...\n",
       "26275  0.0  0.0  0.0  1.0  0.0  0.0  0.0   0.0  0.0  0.0  0.0  0.0  0.0   0.0\n",
       "26276  0.0  0.0  0.0  1.0  0.0  0.0  0.0   0.0  0.0  0.0  0.0  0.0  0.0   0.0\n",
       "26277  0.0  0.0  0.0  1.0  0.0  0.0  0.0   0.0  0.0  0.0  0.0  0.0  0.0   0.0\n",
       "26278  0.0  0.0  0.0  1.0  0.0  0.0  0.0   0.0  0.0  0.0  0.0  0.0  0.0   0.0\n",
       "26279  0.0  0.0  0.0  1.0  0.0  0.0  0.0   0.0  0.0  0.0  0.0  0.0  0.0   0.0\n",
       "\n",
       "[26280 rows x 14 columns]"
      ]
     },
     "execution_count": 15,
     "metadata": {},
     "output_type": "execute_result"
    }
   ],
   "source": [
    "nalc_col"
   ]
  },
  {
   "cell_type": "code",
   "execution_count": 16,
   "metadata": {},
   "outputs": [],
   "source": [
    "# 이후 변환한 데이터는 삭제함 (날씨 컬럼)\n",
    "weather2 = weather2.drop('날씨', axis=1)\n",
    "\n",
    "# 만든 날씨 테이블을 원래 날씨 데이터에 합쳐 시간별 시정 + 날씨 데이터셋으로 만듬\n",
    "weather3 = pd.concat([weather2, nalc_col], axis =1 )\n",
    "\n",
    "# 컬럼 파악 편의를 위한 순서 조정\n",
    "weather3 = weather3[['날짜', '시간', '시정', '싸락우박', '우박', '싸락눈', '비', '소낙비', '연무', '이슬비', '소낙눈',\n",
    "       '박무', '진눈깨비', '안개', '황사', '맑음', '눈']]"
   ]
  },
  {
   "cell_type": "markdown",
   "metadata": {},
   "source": [
    "# 여기부터 교통량 데이터 전처리"
   ]
  },
  {
   "cell_type": "code",
   "execution_count": 17,
   "metadata": {},
   "outputs": [
    {
     "data": {
      "text/plain": [
       "{'강남구',\n",
       " '강동구',\n",
       " '강서구',\n",
       " '관악구',\n",
       " '광진구',\n",
       " '구로구',\n",
       " '금천구',\n",
       " '노원구',\n",
       " '도봉구',\n",
       " '동대문구',\n",
       " '동작구',\n",
       " '마포구',\n",
       " '서대문구',\n",
       " '서초구',\n",
       " '성동구',\n",
       " '성북구',\n",
       " '송파구',\n",
       " '양천구',\n",
       " '영등포구',\n",
       " '용산구',\n",
       " '은평구',\n",
       " '종로구',\n",
       " '중구',\n",
       " '중랑구'}"
      ]
     },
     "execution_count": 17,
     "metadata": {},
     "output_type": "execute_result"
    }
   ],
   "source": [
    "# csv 파일 자체에 있는 index값 제거\n",
    "traffic = traffic.drop('Unnamed: 0', axis=1)\n",
    "\n",
    "# 서울시를 제외한 데이터 제거\n",
    "# 제거해야할 리스트 작성 \n",
    "drop_list = ['고양시', '과천시', '광명시', '구리시', '김포시', '부천시', '하남시']\n",
    "\n",
    "# 제거해야 할 인덱스를 담을 리스트 선언\n",
    "drop_index = []\n",
    "\n",
    "for idx, i in enumerate(traffic['구']):   # 구 데이터를 조회해서\n",
    "    if i in drop_list:                     # 제거대상 리스트에 있으면\n",
    "        drop_index.append(idx)             # 그 행의 index를 저장함\n",
    "\n",
    "traffic = traffic.drop(drop_index, axis=0).reset_index() # 위의 index를 제거\n",
    "set(traffic['구']) # 데이터 검증"
   ]
  },
  {
   "cell_type": "code",
   "execution_count": 18,
   "metadata": {},
   "outputs": [],
   "source": [
    "# 필요한 컬럼만 추출한 변수 선언 (필요없는 컬럼 제거)\n",
    "trf = traffic.drop(['index', '위도','경도','동','구분','지점번호'], axis=1) "
   ]
  },
  {
   "cell_type": "code",
   "execution_count": 19,
   "metadata": {},
   "outputs": [],
   "source": [
    "# 테이블 형태 변환을 위해 melt 함수 사용\n",
    "trf_melt = trf.melt(['구','일자'], var_name = '시간', value_name = 'traffic')\n",
    "\n",
    "# 이후 키 기준으로 합을 계산한 테이블 활용\n",
    "trf_grb = trf_melt.groupby(['구','일자','시간']).sum().reset_index()"
   ]
  },
  {
   "cell_type": "code",
   "execution_count": 20,
   "metadata": {},
   "outputs": [],
   "source": [
    "# join을 위해 key 타입 변경\n",
    "trf_grb['시간'] = trf_grb['시간'].apply(lambda x: int(x[:-1]))\n",
    "trf_grb['날짜'] = trf_grb['일자'].apply(int)\n",
    "trf_grb['traffic'] = trf_grb['traffic'].apply(int)\n",
    "\n",
    "# 컬럼 순서 조정\n",
    "trf_grb = trf_grb[['날짜','구','시간','traffic']]"
   ]
  },
  {
   "cell_type": "code",
   "execution_count": 21,
   "metadata": {},
   "outputs": [
    {
     "data": {
      "text/html": [
       "<div>\n",
       "<style scoped>\n",
       "    .dataframe tbody tr th:only-of-type {\n",
       "        vertical-align: middle;\n",
       "    }\n",
       "\n",
       "    .dataframe tbody tr th {\n",
       "        vertical-align: top;\n",
       "    }\n",
       "\n",
       "    .dataframe thead th {\n",
       "        text-align: right;\n",
       "    }\n",
       "</style>\n",
       "<table border=\"1\" class=\"dataframe\">\n",
       "  <thead>\n",
       "    <tr style=\"text-align: right;\">\n",
       "      <th></th>\n",
       "      <th>날짜</th>\n",
       "      <th>구</th>\n",
       "      <th>시간</th>\n",
       "      <th>traffic</th>\n",
       "    </tr>\n",
       "  </thead>\n",
       "  <tbody>\n",
       "    <tr>\n",
       "      <th>0</th>\n",
       "      <td>20170101</td>\n",
       "      <td>강남구</td>\n",
       "      <td>0</td>\n",
       "      <td>27336</td>\n",
       "    </tr>\n",
       "    <tr>\n",
       "      <th>11</th>\n",
       "      <td>20170101</td>\n",
       "      <td>강남구</td>\n",
       "      <td>1</td>\n",
       "      <td>27429</td>\n",
       "    </tr>\n",
       "    <tr>\n",
       "      <th>16</th>\n",
       "      <td>20170101</td>\n",
       "      <td>강남구</td>\n",
       "      <td>2</td>\n",
       "      <td>18495</td>\n",
       "    </tr>\n",
       "    <tr>\n",
       "      <th>17</th>\n",
       "      <td>20170101</td>\n",
       "      <td>강남구</td>\n",
       "      <td>3</td>\n",
       "      <td>15075</td>\n",
       "    </tr>\n",
       "    <tr>\n",
       "      <th>18</th>\n",
       "      <td>20170101</td>\n",
       "      <td>강남구</td>\n",
       "      <td>4</td>\n",
       "      <td>13356</td>\n",
       "    </tr>\n",
       "    <tr>\n",
       "      <th>...</th>\n",
       "      <td>...</td>\n",
       "      <td>...</td>\n",
       "      <td>...</td>\n",
       "      <td>...</td>\n",
       "    </tr>\n",
       "    <tr>\n",
       "      <th>630706</th>\n",
       "      <td>20191231</td>\n",
       "      <td>중랑구</td>\n",
       "      <td>19</td>\n",
       "      <td>9508</td>\n",
       "    </tr>\n",
       "    <tr>\n",
       "      <th>630708</th>\n",
       "      <td>20191231</td>\n",
       "      <td>중랑구</td>\n",
       "      <td>20</td>\n",
       "      <td>8824</td>\n",
       "    </tr>\n",
       "    <tr>\n",
       "      <th>630709</th>\n",
       "      <td>20191231</td>\n",
       "      <td>중랑구</td>\n",
       "      <td>21</td>\n",
       "      <td>8125</td>\n",
       "    </tr>\n",
       "    <tr>\n",
       "      <th>630710</th>\n",
       "      <td>20191231</td>\n",
       "      <td>중랑구</td>\n",
       "      <td>22</td>\n",
       "      <td>7027</td>\n",
       "    </tr>\n",
       "    <tr>\n",
       "      <th>630711</th>\n",
       "      <td>20191231</td>\n",
       "      <td>중랑구</td>\n",
       "      <td>23</td>\n",
       "      <td>4526</td>\n",
       "    </tr>\n",
       "  </tbody>\n",
       "</table>\n",
       "<p>630720 rows × 4 columns</p>\n",
       "</div>"
      ],
      "text/plain": [
       "              날짜    구  시간  traffic\n",
       "0       20170101  강남구   0    27336\n",
       "11      20170101  강남구   1    27429\n",
       "16      20170101  강남구   2    18495\n",
       "17      20170101  강남구   3    15075\n",
       "18      20170101  강남구   4    13356\n",
       "...          ...  ...  ..      ...\n",
       "630706  20191231  중랑구  19     9508\n",
       "630708  20191231  중랑구  20     8824\n",
       "630709  20191231  중랑구  21     8125\n",
       "630710  20191231  중랑구  22     7027\n",
       "630711  20191231  중랑구  23     4526\n",
       "\n",
       "[630720 rows x 4 columns]"
      ]
     },
     "execution_count": 21,
     "metadata": {},
     "output_type": "execute_result"
    }
   ],
   "source": [
    "# 최종 테이블 형태로 가공\n",
    "trf_grb.sort_values(['날짜','구','시간'])"
   ]
  },
  {
   "cell_type": "code",
   "execution_count": 22,
   "metadata": {},
   "outputs": [
    {
     "data": {
      "text/html": [
       "<div>\n",
       "<style scoped>\n",
       "    .dataframe tbody tr th:only-of-type {\n",
       "        vertical-align: middle;\n",
       "    }\n",
       "\n",
       "    .dataframe tbody tr th {\n",
       "        vertical-align: top;\n",
       "    }\n",
       "\n",
       "    .dataframe thead th {\n",
       "        text-align: right;\n",
       "    }\n",
       "</style>\n",
       "<table border=\"1\" class=\"dataframe\">\n",
       "  <thead>\n",
       "    <tr style=\"text-align: right;\">\n",
       "      <th></th>\n",
       "      <th>날짜</th>\n",
       "      <th>시간</th>\n",
       "      <th>구</th>\n",
       "      <th>추정유동인구</th>\n",
       "    </tr>\n",
       "  </thead>\n",
       "  <tbody>\n",
       "    <tr>\n",
       "      <th>0</th>\n",
       "      <td>20170101</td>\n",
       "      <td>0</td>\n",
       "      <td>강남구</td>\n",
       "      <td>449000</td>\n",
       "    </tr>\n",
       "    <tr>\n",
       "      <th>1</th>\n",
       "      <td>20170101</td>\n",
       "      <td>1</td>\n",
       "      <td>강남구</td>\n",
       "      <td>441924</td>\n",
       "    </tr>\n",
       "    <tr>\n",
       "      <th>2</th>\n",
       "      <td>20170101</td>\n",
       "      <td>2</td>\n",
       "      <td>강남구</td>\n",
       "      <td>436549</td>\n",
       "    </tr>\n",
       "    <tr>\n",
       "      <th>3</th>\n",
       "      <td>20170101</td>\n",
       "      <td>3</td>\n",
       "      <td>강남구</td>\n",
       "      <td>431175</td>\n",
       "    </tr>\n",
       "    <tr>\n",
       "      <th>4</th>\n",
       "      <td>20170101</td>\n",
       "      <td>4</td>\n",
       "      <td>강남구</td>\n",
       "      <td>425355</td>\n",
       "    </tr>\n",
       "    <tr>\n",
       "      <th>...</th>\n",
       "      <td>...</td>\n",
       "      <td>...</td>\n",
       "      <td>...</td>\n",
       "      <td>...</td>\n",
       "    </tr>\n",
       "    <tr>\n",
       "      <th>656995</th>\n",
       "      <td>20191231</td>\n",
       "      <td>19</td>\n",
       "      <td>중랑구</td>\n",
       "      <td>278903</td>\n",
       "    </tr>\n",
       "    <tr>\n",
       "      <th>656996</th>\n",
       "      <td>20191231</td>\n",
       "      <td>20</td>\n",
       "      <td>중랑구</td>\n",
       "      <td>288610</td>\n",
       "    </tr>\n",
       "    <tr>\n",
       "      <th>656997</th>\n",
       "      <td>20191231</td>\n",
       "      <td>21</td>\n",
       "      <td>중랑구</td>\n",
       "      <td>297197</td>\n",
       "    </tr>\n",
       "    <tr>\n",
       "      <th>656998</th>\n",
       "      <td>20191231</td>\n",
       "      <td>22</td>\n",
       "      <td>중랑구</td>\n",
       "      <td>306178</td>\n",
       "    </tr>\n",
       "    <tr>\n",
       "      <th>656999</th>\n",
       "      <td>20191231</td>\n",
       "      <td>23</td>\n",
       "      <td>중랑구</td>\n",
       "      <td>313730</td>\n",
       "    </tr>\n",
       "  </tbody>\n",
       "</table>\n",
       "<p>657000 rows × 4 columns</p>\n",
       "</div>"
      ],
      "text/plain": [
       "              날짜  시간    구  추정유동인구\n",
       "0       20170101   0  강남구  449000\n",
       "1       20170101   1  강남구  441924\n",
       "2       20170101   2  강남구  436549\n",
       "3       20170101   3  강남구  431175\n",
       "4       20170101   4  강남구  425355\n",
       "...          ...  ..  ...     ...\n",
       "656995  20191231  19  중랑구  278903\n",
       "656996  20191231  20  중랑구  288610\n",
       "656997  20191231  21  중랑구  297197\n",
       "656998  20191231  22  중랑구  306178\n",
       "656999  20191231  23  중랑구  313730\n",
       "\n",
       "[657000 rows x 4 columns]"
      ]
     },
     "execution_count": 22,
     "metadata": {},
     "output_type": "execute_result"
    }
   ],
   "source": [
    "flt = pd.concat([flt17,flt18,flt19], axis= 0, ignore_index= True)\n",
    "flt"
   ]
  },
  {
   "cell_type": "code",
   "execution_count": 23,
   "metadata": {},
   "outputs": [
    {
     "data": {
      "text/plain": [
       "((630720, 4), (657000, 4), (26280, 17))"
      ]
     },
     "execution_count": 23,
     "metadata": {},
     "output_type": "execute_result"
    }
   ],
   "source": [
    "# 테이블 shape을 통해 오류 검증\n",
    "# trf_grb에 강북구가 빠져있음\n",
    "# trf_grb를 기준으로 데이터셋 merge 시작\n",
    "trf_grb.shape, flt.shape, weather3.shape"
   ]
  },
  {
   "cell_type": "markdown",
   "metadata": {},
   "source": [
    "### merge를 위해 데이터 타입 확인 info() 메소드 활용"
   ]
  },
  {
   "cell_type": "code",
   "execution_count": 24,
   "metadata": {},
   "outputs": [
    {
     "name": "stdout",
     "output_type": "stream",
     "text": [
      "<class 'pandas.core.frame.DataFrame'>\n",
      "RangeIndex: 630720 entries, 0 to 630719\n",
      "Data columns (total 4 columns):\n",
      " #   Column   Non-Null Count   Dtype \n",
      "---  ------   --------------   ----- \n",
      " 0   날짜       630720 non-null  int64 \n",
      " 1   구        630720 non-null  object\n",
      " 2   시간       630720 non-null  int64 \n",
      " 3   traffic  630720 non-null  int64 \n",
      "dtypes: int64(3), object(1)\n",
      "memory usage: 19.2+ MB\n"
     ]
    }
   ],
   "source": [
    "trf_grb.info()"
   ]
  },
  {
   "cell_type": "code",
   "execution_count": 25,
   "metadata": {},
   "outputs": [
    {
     "name": "stdout",
     "output_type": "stream",
     "text": [
      "<class 'pandas.core.frame.DataFrame'>\n",
      "RangeIndex: 657000 entries, 0 to 656999\n",
      "Data columns (total 4 columns):\n",
      " #   Column  Non-Null Count   Dtype \n",
      "---  ------  --------------   ----- \n",
      " 0   날짜      657000 non-null  int64 \n",
      " 1   시간      657000 non-null  int64 \n",
      " 2   구       657000 non-null  object\n",
      " 3   추정유동인구  657000 non-null  int64 \n",
      "dtypes: int64(3), object(1)\n",
      "memory usage: 20.1+ MB\n"
     ]
    }
   ],
   "source": [
    "flt.info()"
   ]
  },
  {
   "cell_type": "code",
   "execution_count": 26,
   "metadata": {},
   "outputs": [
    {
     "name": "stdout",
     "output_type": "stream",
     "text": [
      "<class 'pandas.core.frame.DataFrame'>\n",
      "RangeIndex: 26280 entries, 0 to 26279\n",
      "Data columns (total 17 columns):\n",
      " #   Column  Non-Null Count  Dtype  \n",
      "---  ------  --------------  -----  \n",
      " 0   날짜      26280 non-null  object \n",
      " 1   시간      26280 non-null  object \n",
      " 2   시정      26280 non-null  int64  \n",
      " 3   싸락우박    26280 non-null  float64\n",
      " 4   우박      26280 non-null  float64\n",
      " 5   싸락눈     26280 non-null  float64\n",
      " 6   비       26280 non-null  float64\n",
      " 7   소낙비     26280 non-null  float64\n",
      " 8   연무      26280 non-null  float64\n",
      " 9   이슬비     26280 non-null  float64\n",
      " 10  소낙눈     26280 non-null  float64\n",
      " 11  박무      26280 non-null  float64\n",
      " 12  진눈깨비    26280 non-null  float64\n",
      " 13  안개      26280 non-null  float64\n",
      " 14  황사      26280 non-null  float64\n",
      " 15  맑음      26280 non-null  float64\n",
      " 16  눈       26280 non-null  float64\n",
      "dtypes: float64(14), int64(1), object(2)\n",
      "memory usage: 3.4+ MB\n"
     ]
    }
   ],
   "source": [
    "weather3.info()"
   ]
  },
  {
   "cell_type": "code",
   "execution_count": 27,
   "metadata": {},
   "outputs": [],
   "source": [
    "# 날씨 데이터의 join key 타입 변경\n",
    "weather3['날짜'] = weather3['날짜'].apply(lambda x: int(x))\n",
    "weather3['시간'] = weather3['시간'].apply(lambda x: int(x))"
   ]
  },
  {
   "cell_type": "code",
   "execution_count": 28,
   "metadata": {},
   "outputs": [
    {
     "data": {
      "text/html": [
       "<div>\n",
       "<style scoped>\n",
       "    .dataframe tbody tr th:only-of-type {\n",
       "        vertical-align: middle;\n",
       "    }\n",
       "\n",
       "    .dataframe tbody tr th {\n",
       "        vertical-align: top;\n",
       "    }\n",
       "\n",
       "    .dataframe thead th {\n",
       "        text-align: right;\n",
       "    }\n",
       "</style>\n",
       "<table border=\"1\" class=\"dataframe\">\n",
       "  <thead>\n",
       "    <tr style=\"text-align: right;\">\n",
       "      <th></th>\n",
       "      <th>날짜</th>\n",
       "      <th>시간</th>\n",
       "      <th>구</th>\n",
       "      <th>추정유동인구</th>\n",
       "      <th>traffic</th>\n",
       "      <th>시정</th>\n",
       "      <th>싸락우박</th>\n",
       "      <th>우박</th>\n",
       "      <th>싸락눈</th>\n",
       "      <th>비</th>\n",
       "      <th>소낙비</th>\n",
       "      <th>연무</th>\n",
       "      <th>이슬비</th>\n",
       "      <th>소낙눈</th>\n",
       "      <th>박무</th>\n",
       "      <th>진눈깨비</th>\n",
       "      <th>안개</th>\n",
       "      <th>황사</th>\n",
       "      <th>맑음</th>\n",
       "      <th>눈</th>\n",
       "    </tr>\n",
       "  </thead>\n",
       "  <tbody>\n",
       "    <tr>\n",
       "      <th>0</th>\n",
       "      <td>20170101</td>\n",
       "      <td>0</td>\n",
       "      <td>강남구</td>\n",
       "      <td>449000</td>\n",
       "      <td>27336</td>\n",
       "      <td>491</td>\n",
       "      <td>0.0</td>\n",
       "      <td>0.0</td>\n",
       "      <td>0.0</td>\n",
       "      <td>0.0</td>\n",
       "      <td>0.0</td>\n",
       "      <td>1.0</td>\n",
       "      <td>0.0</td>\n",
       "      <td>0.0</td>\n",
       "      <td>0.0</td>\n",
       "      <td>0.0</td>\n",
       "      <td>0.0</td>\n",
       "      <td>0.0</td>\n",
       "      <td>0.0</td>\n",
       "      <td>0.0</td>\n",
       "    </tr>\n",
       "  </tbody>\n",
       "</table>\n",
       "</div>"
      ],
      "text/plain": [
       "         날짜  시간    구  추정유동인구  traffic   시정  싸락우박   우박  싸락눈    비  소낙비   연무  \\\n",
       "0  20170101   0  강남구  449000    27336  491   0.0  0.0  0.0  0.0  0.0  1.0   \n",
       "\n",
       "   이슬비  소낙눈   박무  진눈깨비   안개   황사   맑음    눈  \n",
       "0  0.0  0.0  0.0   0.0  0.0  0.0  0.0  0.0  "
      ]
     },
     "execution_count": 28,
     "metadata": {},
     "output_type": "execute_result"
    }
   ],
   "source": [
    "# trf_grb를 기준으로 merge 날씨 데이터에는 구 정보가 없음\n",
    "dataset = pd.merge(flt, trf_grb, how ='right', on = ['날짜','시간','구'])\n",
    "dataset = pd.merge(dataset, weather3, how ='left', on = ['날짜','시간'])\n",
    "dataset.head(1)"
   ]
  },
  {
   "cell_type": "code",
   "execution_count": 29,
   "metadata": {},
   "outputs": [],
   "source": [
    "# 음주사고 데이터 로드\n",
    "acid = pd.read_csv('acid_all.csv', encoding = 'euc-kr')"
   ]
  },
  {
   "cell_type": "code",
   "execution_count": 30,
   "metadata": {},
   "outputs": [],
   "source": [
    "# 사고 일시를 통해 날짜 및 시간 컬럼 추출 (join key)\n",
    "date = acid['사고일시'].apply(lambda x: x.split(\" \"))\n",
    "acid['year'] = date.apply(lambda x: x[0][:-1])\n",
    "acid['month']  = date.apply(lambda x: f'{x[1][:-1]:0>2}')\n",
    "acid['day']  = date.apply(lambda x: f'{x[2][:-1]:0>2}')\n",
    "acid['hour']  = date.apply(lambda x: f'{x[3][:-1]:0>2}')\n",
    "acid.drop('사고일시', axis = 1, inplace = True)\n",
    "\n",
    "acid['날짜'] = acid['year'] + acid['month'] + acid['day']\n",
    "acid = acid.drop(['year','month','day'], axis=1)"
   ]
  },
  {
   "cell_type": "code",
   "execution_count": 31,
   "metadata": {},
   "outputs": [
    {
     "name": "stdout",
     "output_type": "stream",
     "text": [
      "5447\n",
      "23991\n",
      "73786\n"
     ]
    }
   ],
   "source": [
    "for i,j in enumerate(acid['시군구'].apply(lambda x: x.split(\" \"))):\n",
    "    try:\n",
    "        j[2]\n",
    "    except:\n",
    "        print(i)"
   ]
  },
  {
   "cell_type": "code",
   "execution_count": 32,
   "metadata": {},
   "outputs": [],
   "source": [
    "acid = acid.drop([5447,23991,73786])"
   ]
  },
  {
   "cell_type": "code",
   "execution_count": 33,
   "metadata": {},
   "outputs": [],
   "source": [
    "# 시군구 컬럼을 통해 구 동 컬럼 추출\n",
    "acid['구']= acid['시군구'].apply(lambda x: x.split(\" \")[1])\n",
    "acid['동']= acid['시군구'].apply(lambda x: x.split(\" \")[2])\n",
    "acid = acid.drop('시군구', axis=1)"
   ]
  },
  {
   "cell_type": "code",
   "execution_count": 41,
   "metadata": {},
   "outputs": [],
   "source": [
    "# 교통속도 데이터 업로드\n",
    "velocity = pd.read_csv('velocity.csv')"
   ]
  },
  {
   "cell_type": "code",
   "execution_count": 50,
   "metadata": {},
   "outputs": [
    {
     "data": {
      "text/html": [
       "<div>\n",
       "<style scoped>\n",
       "    .dataframe tbody tr th:only-of-type {\n",
       "        vertical-align: middle;\n",
       "    }\n",
       "\n",
       "    .dataframe tbody tr th {\n",
       "        vertical-align: top;\n",
       "    }\n",
       "\n",
       "    .dataframe thead th {\n",
       "        text-align: right;\n",
       "    }\n",
       "</style>\n",
       "<table border=\"1\" class=\"dataframe\">\n",
       "  <thead>\n",
       "    <tr style=\"text-align: right;\">\n",
       "      <th></th>\n",
       "      <th>일자</th>\n",
       "      <th>링크아이디</th>\n",
       "      <th>요일</th>\n",
       "      <th>도로명</th>\n",
       "      <th>기능유형구분</th>\n",
       "      <th>도심/외곽구분</th>\n",
       "      <th>권역구분</th>\n",
       "      <th>거리</th>\n",
       "      <th>01시</th>\n",
       "      <th>02시</th>\n",
       "      <th>...</th>\n",
       "      <th>15시</th>\n",
       "      <th>16시</th>\n",
       "      <th>17시</th>\n",
       "      <th>18시</th>\n",
       "      <th>19시</th>\n",
       "      <th>20시</th>\n",
       "      <th>21시</th>\n",
       "      <th>22시</th>\n",
       "      <th>23시</th>\n",
       "      <th>24시</th>\n",
       "    </tr>\n",
       "  </thead>\n",
       "  <tbody>\n",
       "    <tr>\n",
       "      <th>0</th>\n",
       "      <td>20170101</td>\n",
       "      <td>1000000100</td>\n",
       "      <td>일</td>\n",
       "      <td>새문안로</td>\n",
       "      <td>주간선도로</td>\n",
       "      <td>도심권</td>\n",
       "      <td>종로구</td>\n",
       "      <td>306.0</td>\n",
       "      <td>11802.42</td>\n",
       "      <td>12034.98</td>\n",
       "      <td>...</td>\n",
       "      <td>10379.52</td>\n",
       "      <td>11297.52</td>\n",
       "      <td>11450.52</td>\n",
       "      <td>10939.5</td>\n",
       "      <td>11144.52</td>\n",
       "      <td>10939.5</td>\n",
       "      <td>10456.02</td>\n",
       "      <td>10122.48</td>\n",
       "      <td>10303.02</td>\n",
       "      <td>11221.02</td>\n",
       "    </tr>\n",
       "  </tbody>\n",
       "</table>\n",
       "<p>1 rows × 32 columns</p>\n",
       "</div>"
      ],
      "text/plain": [
       "         일자       링크아이디 요일   도로명 기능유형구분 도심/외곽구분 권역구분     거리       01시  \\\n",
       "0  20170101  1000000100  일  새문안로  주간선도로     도심권  종로구  306.0  11802.42   \n",
       "\n",
       "        02시  ...       15시       16시       17시      18시       19시      20시  \\\n",
       "0  12034.98  ...  10379.52  11297.52  11450.52  10939.5  11144.52  10939.5   \n",
       "\n",
       "        21시       22시       23시       24시  \n",
       "0  10456.02  10122.48  10303.02  11221.02  \n",
       "\n",
       "[1 rows x 32 columns]"
      ]
     },
     "execution_count": 50,
     "metadata": {},
     "output_type": "execute_result"
    }
   ],
   "source": [
    "velocity[0:1]"
   ]
  },
  {
   "cell_type": "code",
   "execution_count": null,
   "metadata": {},
   "outputs": [],
   "source": [
    "for i in range(1, velocity.shape[0]):\n",
    "    velocity.iloc[i,8:] = velocity.iloc[i,8:] * velocity.iloc[i,7]\n",
    "velocity[0:2]"
   ]
  },
  {
   "cell_type": "code",
   "execution_count": 34,
   "metadata": {},
   "outputs": [],
   "source": [
    "# target 변수 설정\n",
    "# 사망 중상 경상 부상 4개 컬럼으로 나눈 타겟 = target4\n",
    "# 사고건수 타겟 = target_event\n",
    "target4 = acid.groupby(['날짜','hour', '구']).sum()[['사망자수','중상자수','경상자수','부상신고자수']].reset_index()\n",
    "target_event = acid.groupby(['날짜','hour', '구']).count()['사고번호'].reset_index()"
   ]
  },
  {
   "cell_type": "code",
   "execution_count": 35,
   "metadata": {},
   "outputs": [],
   "source": [
    "# 컬럼 명 변경\n",
    "target_event.columns = ['날짜','시간','구','건수']\n",
    "target4.columns = ['날짜', '시간', '구', '사망자수', '중상자수', '경상자수', '부상신고자수']"
   ]
  },
  {
   "cell_type": "code",
   "execution_count": 36,
   "metadata": {},
   "outputs": [],
   "source": [
    "# join key 타입 변경\n",
    "target_event['날짜'] = target_event['날짜'].apply(int)\n",
    "target_event['시간'] = target_event['시간'].apply(int)\n",
    "\n",
    "target4['날짜'] = target4['날짜'].apply(int)\n",
    "target4['시간'] = target4['시간'].apply(int)"
   ]
  },
  {
   "cell_type": "code",
   "execution_count": 37,
   "metadata": {},
   "outputs": [],
   "source": [
    "# 각 타겟 변수에 따른 데이터셋 merge\n",
    "ds_4 = pd.merge(dataset, target4,  how = 'left', on = ['날짜','시간','구'])\n",
    "dataset4 = pd.merge(dataset, target_event, how = 'left', on = ['날짜','시간','구'])"
   ]
  },
  {
   "cell_type": "markdown",
   "metadata": {},
   "source": [
    "# 여기까지 데이터셋 결합\n",
    "\n",
    "# 여기부터 EDA"
   ]
  },
  {
   "cell_type": "markdown",
   "metadata": {},
   "source": [
    "# NEWS 데이터 merge 및 EDA"
   ]
  },
  {
   "cell_type": "code",
   "execution_count": 38,
   "metadata": {},
   "outputs": [
    {
     "ename": "FileNotFoundError",
     "evalue": "[Errno 2] File alchol.csv does not exist: 'alchol.csv'",
     "output_type": "error",
     "traceback": [
      "\u001b[1;31m---------------------------------------------------------------------------\u001b[0m",
      "\u001b[1;31mFileNotFoundError\u001b[0m                         Traceback (most recent call last)",
      "\u001b[1;32m<ipython-input-38-3f3bca3dc2b2>\u001b[0m in \u001b[0;36m<module>\u001b[1;34m\u001b[0m\n\u001b[0;32m      1\u001b[0m \u001b[1;31m# NEWS 데이터 로드\u001b[0m\u001b[1;33m\u001b[0m\u001b[1;33m\u001b[0m\u001b[1;33m\u001b[0m\u001b[0m\n\u001b[0;32m      2\u001b[0m \u001b[1;31m# 각각 뉴스 발행량, 조회지수, 단속뉴스 데이터\u001b[0m\u001b[1;33m\u001b[0m\u001b[1;33m\u001b[0m\u001b[1;33m\u001b[0m\u001b[0m\n\u001b[1;32m----> 3\u001b[1;33m \u001b[0malchol\u001b[0m \u001b[1;33m=\u001b[0m \u001b[0mpd\u001b[0m\u001b[1;33m.\u001b[0m\u001b[0mread_csv\u001b[0m\u001b[1;33m(\u001b[0m\u001b[1;34m'alchol.csv'\u001b[0m\u001b[1;33m)\u001b[0m\u001b[1;33m\u001b[0m\u001b[1;33m\u001b[0m\u001b[0m\n\u001b[0m\u001b[0;32m      4\u001b[0m \u001b[0mclick\u001b[0m \u001b[1;33m=\u001b[0m \u001b[0mpd\u001b[0m\u001b[1;33m.\u001b[0m\u001b[0mread_excel\u001b[0m\u001b[1;33m(\u001b[0m\u001b[1;34m'click.xlsx'\u001b[0m\u001b[1;33m)\u001b[0m\u001b[1;33m\u001b[0m\u001b[1;33m\u001b[0m\u001b[0m\n\u001b[0;32m      5\u001b[0m \u001b[0mcheck\u001b[0m \u001b[1;33m=\u001b[0m \u001b[0mpd\u001b[0m\u001b[1;33m.\u001b[0m\u001b[0mread_csv\u001b[0m\u001b[1;33m(\u001b[0m\u001b[1;34m'check.csv'\u001b[0m\u001b[1;33m)\u001b[0m\u001b[1;33m\u001b[0m\u001b[1;33m\u001b[0m\u001b[0m\n",
      "\u001b[1;32mD:\\anaconda\\lib\\site-packages\\pandas\\io\\parsers.py\u001b[0m in \u001b[0;36mparser_f\u001b[1;34m(filepath_or_buffer, sep, delimiter, header, names, index_col, usecols, squeeze, prefix, mangle_dupe_cols, dtype, engine, converters, true_values, false_values, skipinitialspace, skiprows, skipfooter, nrows, na_values, keep_default_na, na_filter, verbose, skip_blank_lines, parse_dates, infer_datetime_format, keep_date_col, date_parser, dayfirst, cache_dates, iterator, chunksize, compression, thousands, decimal, lineterminator, quotechar, quoting, doublequote, escapechar, comment, encoding, dialect, error_bad_lines, warn_bad_lines, delim_whitespace, low_memory, memory_map, float_precision)\u001b[0m\n\u001b[0;32m    674\u001b[0m         )\n\u001b[0;32m    675\u001b[0m \u001b[1;33m\u001b[0m\u001b[0m\n\u001b[1;32m--> 676\u001b[1;33m         \u001b[1;32mreturn\u001b[0m \u001b[0m_read\u001b[0m\u001b[1;33m(\u001b[0m\u001b[0mfilepath_or_buffer\u001b[0m\u001b[1;33m,\u001b[0m \u001b[0mkwds\u001b[0m\u001b[1;33m)\u001b[0m\u001b[1;33m\u001b[0m\u001b[1;33m\u001b[0m\u001b[0m\n\u001b[0m\u001b[0;32m    677\u001b[0m \u001b[1;33m\u001b[0m\u001b[0m\n\u001b[0;32m    678\u001b[0m     \u001b[0mparser_f\u001b[0m\u001b[1;33m.\u001b[0m\u001b[0m__name__\u001b[0m \u001b[1;33m=\u001b[0m \u001b[0mname\u001b[0m\u001b[1;33m\u001b[0m\u001b[1;33m\u001b[0m\u001b[0m\n",
      "\u001b[1;32mD:\\anaconda\\lib\\site-packages\\pandas\\io\\parsers.py\u001b[0m in \u001b[0;36m_read\u001b[1;34m(filepath_or_buffer, kwds)\u001b[0m\n\u001b[0;32m    446\u001b[0m \u001b[1;33m\u001b[0m\u001b[0m\n\u001b[0;32m    447\u001b[0m     \u001b[1;31m# Create the parser.\u001b[0m\u001b[1;33m\u001b[0m\u001b[1;33m\u001b[0m\u001b[1;33m\u001b[0m\u001b[0m\n\u001b[1;32m--> 448\u001b[1;33m     \u001b[0mparser\u001b[0m \u001b[1;33m=\u001b[0m \u001b[0mTextFileReader\u001b[0m\u001b[1;33m(\u001b[0m\u001b[0mfp_or_buf\u001b[0m\u001b[1;33m,\u001b[0m \u001b[1;33m**\u001b[0m\u001b[0mkwds\u001b[0m\u001b[1;33m)\u001b[0m\u001b[1;33m\u001b[0m\u001b[1;33m\u001b[0m\u001b[0m\n\u001b[0m\u001b[0;32m    449\u001b[0m \u001b[1;33m\u001b[0m\u001b[0m\n\u001b[0;32m    450\u001b[0m     \u001b[1;32mif\u001b[0m \u001b[0mchunksize\u001b[0m \u001b[1;32mor\u001b[0m \u001b[0miterator\u001b[0m\u001b[1;33m:\u001b[0m\u001b[1;33m\u001b[0m\u001b[1;33m\u001b[0m\u001b[0m\n",
      "\u001b[1;32mD:\\anaconda\\lib\\site-packages\\pandas\\io\\parsers.py\u001b[0m in \u001b[0;36m__init__\u001b[1;34m(self, f, engine, **kwds)\u001b[0m\n\u001b[0;32m    878\u001b[0m             \u001b[0mself\u001b[0m\u001b[1;33m.\u001b[0m\u001b[0moptions\u001b[0m\u001b[1;33m[\u001b[0m\u001b[1;34m\"has_index_names\"\u001b[0m\u001b[1;33m]\u001b[0m \u001b[1;33m=\u001b[0m \u001b[0mkwds\u001b[0m\u001b[1;33m[\u001b[0m\u001b[1;34m\"has_index_names\"\u001b[0m\u001b[1;33m]\u001b[0m\u001b[1;33m\u001b[0m\u001b[1;33m\u001b[0m\u001b[0m\n\u001b[0;32m    879\u001b[0m \u001b[1;33m\u001b[0m\u001b[0m\n\u001b[1;32m--> 880\u001b[1;33m         \u001b[0mself\u001b[0m\u001b[1;33m.\u001b[0m\u001b[0m_make_engine\u001b[0m\u001b[1;33m(\u001b[0m\u001b[0mself\u001b[0m\u001b[1;33m.\u001b[0m\u001b[0mengine\u001b[0m\u001b[1;33m)\u001b[0m\u001b[1;33m\u001b[0m\u001b[1;33m\u001b[0m\u001b[0m\n\u001b[0m\u001b[0;32m    881\u001b[0m \u001b[1;33m\u001b[0m\u001b[0m\n\u001b[0;32m    882\u001b[0m     \u001b[1;32mdef\u001b[0m \u001b[0mclose\u001b[0m\u001b[1;33m(\u001b[0m\u001b[0mself\u001b[0m\u001b[1;33m)\u001b[0m\u001b[1;33m:\u001b[0m\u001b[1;33m\u001b[0m\u001b[1;33m\u001b[0m\u001b[0m\n",
      "\u001b[1;32mD:\\anaconda\\lib\\site-packages\\pandas\\io\\parsers.py\u001b[0m in \u001b[0;36m_make_engine\u001b[1;34m(self, engine)\u001b[0m\n\u001b[0;32m   1112\u001b[0m     \u001b[1;32mdef\u001b[0m \u001b[0m_make_engine\u001b[0m\u001b[1;33m(\u001b[0m\u001b[0mself\u001b[0m\u001b[1;33m,\u001b[0m \u001b[0mengine\u001b[0m\u001b[1;33m=\u001b[0m\u001b[1;34m\"c\"\u001b[0m\u001b[1;33m)\u001b[0m\u001b[1;33m:\u001b[0m\u001b[1;33m\u001b[0m\u001b[1;33m\u001b[0m\u001b[0m\n\u001b[0;32m   1113\u001b[0m         \u001b[1;32mif\u001b[0m \u001b[0mengine\u001b[0m \u001b[1;33m==\u001b[0m \u001b[1;34m\"c\"\u001b[0m\u001b[1;33m:\u001b[0m\u001b[1;33m\u001b[0m\u001b[1;33m\u001b[0m\u001b[0m\n\u001b[1;32m-> 1114\u001b[1;33m             \u001b[0mself\u001b[0m\u001b[1;33m.\u001b[0m\u001b[0m_engine\u001b[0m \u001b[1;33m=\u001b[0m \u001b[0mCParserWrapper\u001b[0m\u001b[1;33m(\u001b[0m\u001b[0mself\u001b[0m\u001b[1;33m.\u001b[0m\u001b[0mf\u001b[0m\u001b[1;33m,\u001b[0m \u001b[1;33m**\u001b[0m\u001b[0mself\u001b[0m\u001b[1;33m.\u001b[0m\u001b[0moptions\u001b[0m\u001b[1;33m)\u001b[0m\u001b[1;33m\u001b[0m\u001b[1;33m\u001b[0m\u001b[0m\n\u001b[0m\u001b[0;32m   1115\u001b[0m         \u001b[1;32melse\u001b[0m\u001b[1;33m:\u001b[0m\u001b[1;33m\u001b[0m\u001b[1;33m\u001b[0m\u001b[0m\n\u001b[0;32m   1116\u001b[0m             \u001b[1;32mif\u001b[0m \u001b[0mengine\u001b[0m \u001b[1;33m==\u001b[0m \u001b[1;34m\"python\"\u001b[0m\u001b[1;33m:\u001b[0m\u001b[1;33m\u001b[0m\u001b[1;33m\u001b[0m\u001b[0m\n",
      "\u001b[1;32mD:\\anaconda\\lib\\site-packages\\pandas\\io\\parsers.py\u001b[0m in \u001b[0;36m__init__\u001b[1;34m(self, src, **kwds)\u001b[0m\n\u001b[0;32m   1889\u001b[0m         \u001b[0mkwds\u001b[0m\u001b[1;33m[\u001b[0m\u001b[1;34m\"usecols\"\u001b[0m\u001b[1;33m]\u001b[0m \u001b[1;33m=\u001b[0m \u001b[0mself\u001b[0m\u001b[1;33m.\u001b[0m\u001b[0musecols\u001b[0m\u001b[1;33m\u001b[0m\u001b[1;33m\u001b[0m\u001b[0m\n\u001b[0;32m   1890\u001b[0m \u001b[1;33m\u001b[0m\u001b[0m\n\u001b[1;32m-> 1891\u001b[1;33m         \u001b[0mself\u001b[0m\u001b[1;33m.\u001b[0m\u001b[0m_reader\u001b[0m \u001b[1;33m=\u001b[0m \u001b[0mparsers\u001b[0m\u001b[1;33m.\u001b[0m\u001b[0mTextReader\u001b[0m\u001b[1;33m(\u001b[0m\u001b[0msrc\u001b[0m\u001b[1;33m,\u001b[0m \u001b[1;33m**\u001b[0m\u001b[0mkwds\u001b[0m\u001b[1;33m)\u001b[0m\u001b[1;33m\u001b[0m\u001b[1;33m\u001b[0m\u001b[0m\n\u001b[0m\u001b[0;32m   1892\u001b[0m         \u001b[0mself\u001b[0m\u001b[1;33m.\u001b[0m\u001b[0munnamed_cols\u001b[0m \u001b[1;33m=\u001b[0m \u001b[0mself\u001b[0m\u001b[1;33m.\u001b[0m\u001b[0m_reader\u001b[0m\u001b[1;33m.\u001b[0m\u001b[0munnamed_cols\u001b[0m\u001b[1;33m\u001b[0m\u001b[1;33m\u001b[0m\u001b[0m\n\u001b[0;32m   1893\u001b[0m \u001b[1;33m\u001b[0m\u001b[0m\n",
      "\u001b[1;32mpandas\\_libs\\parsers.pyx\u001b[0m in \u001b[0;36mpandas._libs.parsers.TextReader.__cinit__\u001b[1;34m()\u001b[0m\n",
      "\u001b[1;32mpandas\\_libs\\parsers.pyx\u001b[0m in \u001b[0;36mpandas._libs.parsers.TextReader._setup_parser_source\u001b[1;34m()\u001b[0m\n",
      "\u001b[1;31mFileNotFoundError\u001b[0m: [Errno 2] File alchol.csv does not exist: 'alchol.csv'"
     ]
    }
   ],
   "source": [
    "# NEWS 데이터 로드\n",
    "# 각각 뉴스 발행량, 조회지수, 단속뉴스 데이터\n",
    "alchol = pd.read_csv('alchol.csv')\n",
    "click = pd.read_excel('click.xlsx')\n",
    "check = pd.read_csv('check.csv')"
   ]
  },
  {
   "cell_type": "code",
   "execution_count": null,
   "metadata": {},
   "outputs": [],
   "source": [
    "# CSV INDEX 제거\n",
    "alchol.drop('Unnamed: 0', axis=1,inplace=True)"
   ]
  },
  {
   "cell_type": "code",
   "execution_count": null,
   "metadata": {},
   "outputs": [],
   "source": [
    "# 컬럼명 변경\n",
    "alchol.columns = ['날짜','뉴스발행량']\n",
    "click.columns = ['날짜','조회지수']"
   ]
  },
  {
   "cell_type": "code",
   "execution_count": null,
   "metadata": {},
   "outputs": [],
   "source": [
    "# Join key 추출\n",
    "alchol['날짜'] = alchol['날짜'].apply(lambda x: int(x.replace('.','')))\n",
    "click['날짜'] = click['날짜'].apply(lambda x: int(x.replace('-','')))"
   ]
  },
  {
   "cell_type": "code",
   "execution_count": null,
   "metadata": {},
   "outputs": [],
   "source": [
    "# 각 데이터 merge\n",
    "ds_5 = pd.merge(ds_4, alchol, on = '날짜')\n",
    "ds_6 = pd.merge(ds_5, click, on ='날짜')\n",
    "\n",
    "dataset5 = pd.merge(dataset4, alchol, on = '날짜')\n",
    "dataset6 = pd.merge(dataset5, click, on ='날짜')"
   ]
  },
  {
   "cell_type": "code",
   "execution_count": null,
   "metadata": {},
   "outputs": [],
   "source": [
    "# 데이터셋 파악 시작\n",
    "dataset6.shape"
   ]
  },
  {
   "cell_type": "code",
   "execution_count": null,
   "metadata": {},
   "outputs": [],
   "source": [
    "dataset6.info()"
   ]
  },
  {
   "cell_type": "code",
   "execution_count": null,
   "metadata": {},
   "outputs": [],
   "source": [
    "dataset6.describe()"
   ]
  },
  {
   "cell_type": "code",
   "execution_count": null,
   "metadata": {},
   "outputs": [],
   "source": [
    "# max 값 조회 (확인)\n",
    "click[click['날짜'] == 20190625]"
   ]
  },
  {
   "cell_type": "code",
   "execution_count": null,
   "metadata": {},
   "outputs": [],
   "source": [
    "# 월별 groupby를 위한 컬럼 생성\n",
    "click['월'] = click['날짜'].apply(lambda x: str(x)[:6])\n",
    "alchol['월'] = alchol['날짜'].apply(lambda x: str(x)[:6])"
   ]
  },
  {
   "cell_type": "markdown",
   "metadata": {},
   "source": [
    "# EDA"
   ]
  },
  {
   "cell_type": "code",
   "execution_count": null,
   "metadata": {},
   "outputs": [],
   "source": [
    "alchol2 = alchol.sort_values('뉴스발행량').reset_index().drop(['index','날짜'],axis=1)\n",
    "plt.scatter(alchol['월'], alchol['뉴스발행량'])"
   ]
  },
  {
   "cell_type": "code",
   "execution_count": null,
   "metadata": {},
   "outputs": [],
   "source": [
    "aa = dataset6.groupby('월').mean()['건수']\n",
    "bb = alchol.groupby('월').mean()['뉴스발행량']\n",
    "pd.concat([aa,bb],axis=1).corr()"
   ]
  },
  {
   "cell_type": "code",
   "execution_count": null,
   "metadata": {},
   "outputs": [],
   "source": [
    "ds_6['날짜'] = ds_6['날짜'].apply(str)\n",
    "alchol['날짜'] = alchol['날짜'].apply(str)"
   ]
  },
  {
   "cell_type": "code",
   "execution_count": null,
   "metadata": {},
   "outputs": [],
   "source": [
    "pd.set_option('display.max_rows', 999)"
   ]
  },
  {
   "cell_type": "code",
   "execution_count": null,
   "metadata": {},
   "outputs": [],
   "source": [
    "ds_6['월'] = ds_6['날짜'].apply(lambda x: str(x)[:6])"
   ]
  },
  {
   "cell_type": "code",
   "execution_count": null,
   "metadata": {},
   "outputs": [],
   "source": [
    "dataset6['월'] = dataset6['날짜'].apply(lambda x: str(x)[:6])"
   ]
  },
  {
   "cell_type": "code",
   "execution_count": null,
   "metadata": {},
   "outputs": [],
   "source": [
    "ds_6 = ds_6.fillna(0)\n",
    "dataset6 = dataset6.fillna(0)\n",
    "corr = dataset6.corr()"
   ]
  },
  {
   "cell_type": "code",
   "execution_count": null,
   "metadata": {},
   "outputs": [],
   "source": [
    "def make_heatmap(ds_6):\n",
    "    ds_grb = ds_6.groupby(['날짜', '구']).sum().reset_index().drop('시간',axis=1)\n",
    "    for i in list(set(ds_grb['구'])):\n",
    "        corr = ds_grb[ds_grb['구'] == i].corr()\n",
    "        plt.rcParams['font.family'] = 'Malgun Gothic'\n",
    "        sns.heatmap(corr, \n",
    "                xticklabels=corr.columns,\n",
    "                yticklabels=corr.columns)\n",
    "        plt.show()"
   ]
  },
  {
   "cell_type": "markdown",
   "metadata": {},
   "source": [
    "# 모델링"
   ]
  },
  {
   "cell_type": "code",
   "execution_count": null,
   "metadata": {},
   "outputs": [],
   "source": [
    "ds_6.to_csv('ds6_all.csv', index=False)\n",
    "dataset6.to_csv('dataset_all.csv', index=False)"
   ]
  },
  {
   "cell_type": "code",
   "execution_count": null,
   "metadata": {},
   "outputs": [],
   "source": []
  },
  {
   "cell_type": "code",
   "execution_count": null,
   "metadata": {},
   "outputs": [],
   "source": []
  }
 ],
 "metadata": {
  "kernelspec": {
   "display_name": "Python 3",
   "language": "python",
   "name": "python3"
  },
  "language_info": {
   "codemirror_mode": {
    "name": "ipython",
    "version": 3
   },
   "file_extension": ".py",
   "mimetype": "text/x-python",
   "name": "python",
   "nbconvert_exporter": "python",
   "pygments_lexer": "ipython3",
   "version": "3.8.3"
  }
 },
 "nbformat": 4,
 "nbformat_minor": 4
}
